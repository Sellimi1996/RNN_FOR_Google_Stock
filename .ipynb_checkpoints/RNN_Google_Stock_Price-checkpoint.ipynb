{
 "cells": [
  {
   "cell_type": "code",
   "execution_count": 1,
   "id": "tribal-tennessee",
   "metadata": {},
   "outputs": [],
   "source": [
    "import numpy as np\n",
    "import matplotlib.pyplot as plt\n",
    "import pandas as pd\n"
   ]
  },
  {
   "cell_type": "markdown",
   "id": "colored-nepal",
   "metadata": {},
   "source": [
    "# Importin training dataset\n"
   ]
  },
  {
   "cell_type": "code",
   "execution_count": 13,
   "id": "regular-costs",
   "metadata": {},
   "outputs": [
    {
     "name": "stdout",
     "output_type": "stream",
     "text": [
      "       Date    Open    High     Low   Close      Volume\n",
      "0  1/3/2012  325.25  332.83  324.97  663.59   7,380,500\n",
      "1  1/4/2012  331.27  333.87  329.08  666.45   5,749,400\n",
      "2  1/5/2012  329.83  330.75  326.89  657.21   6,590,300\n",
      "3  1/6/2012  328.34  328.77  323.68  648.24   5,405,900\n",
      "4  1/9/2012  322.04  322.29  309.46  620.76  11,688,800\n"
     ]
    }
   ],
   "source": [
    "#Importing the training set\n",
    "path_file= file_path = 'C:/Users/user/Documents/Bussnis computing/RNN stock price prediction/Google_Stock_Price_Train.csv'\n",
    "dataset_train = pd.read_csv(file_path, header=0)\n",
    "training_set = dataset_train.iloc[:, 1:2].values\n",
    "print(dataset_train.head())\n"
   ]
  },
  {
   "cell_type": "code",
   "execution_count": 14,
   "id": "widespread-elevation",
   "metadata": {},
   "outputs": [],
   "source": [
    "#feature Scaling\n",
    "from sklearn.preprocessing import MinMaxScaler\n",
    "sc = MinMaxScaler(feature_range = (0, 1))\n",
    "training_set_scaled = sc.fit_transform(training_set)"
   ]
  },
  {
   "cell_type": "code",
   "execution_count": 24,
   "id": "adjusted-colombia",
   "metadata": {},
   "outputs": [],
   "source": [
    "#creating a data structure with 60 timesteps and 1 output\n",
    "X_train = []\n",
    "y_train =[]\n",
    "for i in range(60, 1258):\n",
    "    X_train.append(training_set_scaled[i-60:i, 0])\n",
    "    y_train.append(training_set_scaled[i, 0])\n",
    "X_train, y_train = np.array(X_train), np.array(y_train)\n",
    "#Reshaping\n",
    "X_train = np.reshape(X_train, (X_train.shape[0], X_train.shape[1], 1))"
   ]
  },
  {
   "cell_type": "code",
   "execution_count": 21,
   "id": "metric-diagram",
   "metadata": {},
   "outputs": [],
   "source": [
    "# Importing the Keras libraries and packages\n",
    "from keras.models import Sequential\n",
    "from keras.layers import Dense\n",
    "from keras.layers import LSTM\n",
    "from keras.layers import Dropout"
   ]
  },
  {
   "cell_type": "code",
   "execution_count": 22,
   "id": "alive-guide",
   "metadata": {},
   "outputs": [],
   "source": [
    "#Initialising the RNN\n",
    "regressor = Sequential()"
   ]
  },
  {
   "cell_type": "code",
   "execution_count": 26,
   "id": "cognitive-intervention",
   "metadata": {},
   "outputs": [],
   "source": [
    "#Adding a First LSTM layer and some Dropout regulation\n",
    "regressor.add(LSTM(units = 50, return_sequences = True, input_shape = (X_train.shape[1], 1)))\n",
    "regressor.add(Dropout(0.2))"
   ]
  },
  {
   "cell_type": "code",
   "execution_count": 27,
   "id": "superb-branch",
   "metadata": {},
   "outputs": [],
   "source": [
    "#Adding a second LSTM layer and some Dropout regulation\n",
    "regressor.add(LSTM(units = 50, return_sequences = True))\n",
    "regressor.add(Dropout(0.2))"
   ]
  },
  {
   "cell_type": "code",
   "execution_count": 28,
   "id": "according-tower",
   "metadata": {},
   "outputs": [],
   "source": [
    "#Adding a third LSTM layer and some Dropout regulation\n",
    "regressor.add(LSTM(units = 50, return_sequences = True ))\n",
    "regressor.add(Dropout(0.2))"
   ]
  },
  {
   "cell_type": "code",
   "execution_count": 29,
   "id": "endless-legislation",
   "metadata": {},
   "outputs": [],
   "source": [
    "#Adding a fourth LSTM layer and some Dropout regulation\n",
    "regressor.add(LSTM(units = 50))\n",
    "regressor.add(Dropout(0.2))"
   ]
  },
  {
   "cell_type": "code",
   "execution_count": 32,
   "id": "governmental-albuquerque",
   "metadata": {},
   "outputs": [],
   "source": [
    "#Adding the output Layer\n",
    "regressor.add(Dense(units = 1))"
   ]
  },
  {
   "cell_type": "code",
   "execution_count": 33,
   "id": "entertaining-chain",
   "metadata": {},
   "outputs": [],
   "source": [
    "#Compiling the RNN\n",
    "regressor.compile(optimizer ='adam', loss = 'mean_squared_error')"
   ]
  },
  {
   "cell_type": "code",
   "execution_count": 34,
   "id": "cardiac-advertising",
   "metadata": {},
   "outputs": [
    {
     "name": "stdout",
     "output_type": "stream",
     "text": [
      "Epoch 1/100\n",
      "38/38 [==============================] - 20s 142ms/step - loss: 0.0992\n",
      "Epoch 2/100\n",
      "38/38 [==============================] - 5s 138ms/step - loss: 0.0075\n",
      "Epoch 3/100\n",
      "38/38 [==============================] - 5s 139ms/step - loss: 0.0062\n",
      "Epoch 4/100\n",
      "38/38 [==============================] - 5s 139ms/step - loss: 0.0051\n",
      "Epoch 5/100\n",
      "38/38 [==============================] - 5s 142ms/step - loss: 0.0056\n",
      "Epoch 6/100\n",
      "38/38 [==============================] - 5s 140ms/step - loss: 0.0053\n",
      "Epoch 7/100\n",
      "38/38 [==============================] - 5s 138ms/step - loss: 0.0058\n",
      "Epoch 8/100\n",
      "38/38 [==============================] - 5s 139ms/step - loss: 0.0057\n",
      "Epoch 9/100\n",
      "38/38 [==============================] - 5s 139ms/step - loss: 0.0058\n",
      "Epoch 10/100\n",
      "38/38 [==============================] - 5s 139ms/step - loss: 0.0054\n",
      "Epoch 11/100\n",
      "38/38 [==============================] - 5s 139ms/step - loss: 0.0046\n",
      "Epoch 12/100\n",
      "38/38 [==============================] - 5s 139ms/step - loss: 0.0043\n",
      "Epoch 13/100\n",
      "38/38 [==============================] - 5s 139ms/step - loss: 0.0043\n",
      "Epoch 14/100\n",
      "38/38 [==============================] - 5s 139ms/step - loss: 0.0044\n",
      "Epoch 15/100\n",
      "38/38 [==============================] - 5s 141ms/step - loss: 0.0045\n",
      "Epoch 16/100\n",
      "38/38 [==============================] - 5s 140ms/step - loss: 0.0036\n",
      "Epoch 17/100\n",
      "38/38 [==============================] - 5s 139ms/step - loss: 0.0044\n",
      "Epoch 18/100\n",
      "38/38 [==============================] - 5s 139ms/step - loss: 0.0041\n",
      "Epoch 19/100\n",
      "38/38 [==============================] - 5s 139ms/step - loss: 0.0046\n",
      "Epoch 20/100\n",
      "38/38 [==============================] - 5s 139ms/step - loss: 0.0037\n",
      "Epoch 21/100\n",
      "38/38 [==============================] - 5s 139ms/step - loss: 0.0034\n",
      "Epoch 22/100\n",
      "38/38 [==============================] - 5s 139ms/step - loss: 0.0040\n",
      "Epoch 23/100\n",
      "38/38 [==============================] - 5s 139ms/step - loss: 0.0034\n",
      "Epoch 24/100\n",
      "38/38 [==============================] - 5s 140ms/step - loss: 0.0036\n",
      "Epoch 25/100\n",
      "38/38 [==============================] - 5s 139ms/step - loss: 0.0035\n",
      "Epoch 26/100\n",
      "38/38 [==============================] - 5s 139ms/step - loss: 0.0033\n",
      "Epoch 27/100\n",
      "38/38 [==============================] - 5s 140ms/step - loss: 0.0034\n",
      "Epoch 28/100\n",
      "38/38 [==============================] - 5s 140ms/step - loss: 0.0030\n",
      "Epoch 29/100\n",
      "38/38 [==============================] - 5s 139ms/step - loss: 0.0028\n",
      "Epoch 30/100\n",
      "38/38 [==============================] - 5s 139ms/step - loss: 0.0028\n",
      "Epoch 31/100\n",
      "38/38 [==============================] - 5s 139ms/step - loss: 0.0025\n",
      "Epoch 32/100\n",
      "38/38 [==============================] - 5s 139ms/step - loss: 0.0030\n",
      "Epoch 33/100\n",
      "38/38 [==============================] - 5s 140ms/step - loss: 0.0031\n",
      "Epoch 34/100\n",
      "38/38 [==============================] - 5s 139ms/step - loss: 0.0029\n",
      "Epoch 35/100\n",
      "38/38 [==============================] - 5s 139ms/step - loss: 0.0030\n",
      "Epoch 36/100\n",
      "38/38 [==============================] - 5s 141ms/step - loss: 0.0029\n",
      "Epoch 37/100\n",
      "38/38 [==============================] - 5s 141ms/step - loss: 0.0029\n",
      "Epoch 38/100\n",
      "38/38 [==============================] - 5s 141ms/step - loss: 0.0027\n",
      "Epoch 39/100\n",
      "38/38 [==============================] - 5s 140ms/step - loss: 0.0031\n",
      "Epoch 40/100\n",
      "38/38 [==============================] - 5s 141ms/step - loss: 0.0024\n",
      "Epoch 41/100\n",
      "38/38 [==============================] - 5s 141ms/step - loss: 0.0028\n",
      "Epoch 42/100\n",
      "38/38 [==============================] - 5s 140ms/step - loss: 0.0025\n",
      "Epoch 43/100\n",
      "38/38 [==============================] - 5s 141ms/step - loss: 0.0023\n",
      "Epoch 44/100\n",
      "38/38 [==============================] - 5s 140ms/step - loss: 0.0025\n",
      "Epoch 45/100\n",
      "38/38 [==============================] - 5s 140ms/step - loss: 0.0026\n",
      "Epoch 46/100\n",
      "38/38 [==============================] - 5s 141ms/step - loss: 0.0025\n",
      "Epoch 47/100\n",
      "38/38 [==============================] - 5s 141ms/step - loss: 0.0022\n",
      "Epoch 48/100\n",
      "38/38 [==============================] - 5s 141ms/step - loss: 0.0025\n",
      "Epoch 49/100\n",
      "38/38 [==============================] - 5s 141ms/step - loss: 0.0026\n",
      "Epoch 50/100\n",
      "38/38 [==============================] - 5s 143ms/step - loss: 0.0022\n",
      "Epoch 51/100\n",
      "38/38 [==============================] - 5s 142ms/step - loss: 0.0023\n",
      "Epoch 52/100\n",
      "38/38 [==============================] - 5s 141ms/step - loss: 0.0023\n",
      "Epoch 53/100\n",
      "38/38 [==============================] - 5s 141ms/step - loss: 0.0024\n",
      "Epoch 54/100\n",
      "38/38 [==============================] - 5s 141ms/step - loss: 0.0021\n",
      "Epoch 55/100\n",
      "38/38 [==============================] - 5s 141ms/step - loss: 0.0022\n",
      "Epoch 56/100\n",
      "38/38 [==============================] - 5s 141ms/step - loss: 0.0021\n",
      "Epoch 57/100\n",
      "38/38 [==============================] - 5s 141ms/step - loss: 0.0024\n",
      "Epoch 58/100\n",
      "38/38 [==============================] - 5s 141ms/step - loss: 0.0019\n",
      "Epoch 59/100\n",
      "38/38 [==============================] - 5s 141ms/step - loss: 0.0016\n",
      "Epoch 60/100\n",
      "38/38 [==============================] - 5s 142ms/step - loss: 0.0024\n",
      "Epoch 61/100\n",
      "38/38 [==============================] - 5s 143ms/step - loss: 0.0021\n",
      "Epoch 62/100\n",
      "38/38 [==============================] - 5s 139ms/step - loss: 0.0021\n",
      "Epoch 63/100\n",
      "38/38 [==============================] - 5s 130ms/step - loss: 0.0019\n",
      "Epoch 64/100\n",
      "38/38 [==============================] - 5s 128ms/step - loss: 0.0016\n",
      "Epoch 65/100\n",
      "38/38 [==============================] - 5s 128ms/step - loss: 0.0018\n",
      "Epoch 66/100\n",
      "38/38 [==============================] - 5s 128ms/step - loss: 0.0017\n",
      "Epoch 67/100\n",
      "38/38 [==============================] - 5s 128ms/step - loss: 0.0018\n",
      "Epoch 68/100\n",
      "38/38 [==============================] - 5s 128ms/step - loss: 0.0018\n",
      "Epoch 69/100\n",
      "38/38 [==============================] - 5s 129ms/step - loss: 0.0016\n",
      "Epoch 70/100\n",
      "38/38 [==============================] - 5s 131ms/step - loss: 0.0016\n",
      "Epoch 71/100\n",
      "38/38 [==============================] - 5s 133ms/step - loss: 0.0017\n",
      "Epoch 72/100\n",
      "38/38 [==============================] - 5s 142ms/step - loss: 0.0018\n",
      "Epoch 73/100\n",
      "38/38 [==============================] - 5s 144ms/step - loss: 0.0018\n",
      "Epoch 74/100\n",
      "38/38 [==============================] - 5s 141ms/step - loss: 0.0018\n",
      "Epoch 75/100\n",
      "38/38 [==============================] - 5s 142ms/step - loss: 0.0016\n",
      "Epoch 76/100\n",
      "38/38 [==============================] - 5s 141ms/step - loss: 0.0017\n",
      "Epoch 77/100\n",
      "38/38 [==============================] - 5s 141ms/step - loss: 0.0018\n",
      "Epoch 78/100\n",
      "38/38 [==============================] - 5s 141ms/step - loss: 0.0016\n",
      "Epoch 79/100\n",
      "38/38 [==============================] - 5s 143ms/step - loss: 0.0016\n",
      "Epoch 80/100\n",
      "38/38 [==============================] - 6s 145ms/step - loss: 0.0015\n",
      "Epoch 81/100\n",
      "38/38 [==============================] - 5s 142ms/step - loss: 0.0014\n",
      "Epoch 82/100\n",
      "38/38 [==============================] - 5s 141ms/step - loss: 0.0021\n",
      "Epoch 83/100\n",
      "38/38 [==============================] - 5s 141ms/step - loss: 0.0014\n",
      "Epoch 84/100\n",
      "38/38 [==============================] - 5s 141ms/step - loss: 0.0015\n",
      "Epoch 85/100\n",
      "38/38 [==============================] - 5s 141ms/step - loss: 0.0016\n",
      "Epoch 86/100\n",
      "38/38 [==============================] - 5s 141ms/step - loss: 0.0017\n",
      "Epoch 87/100\n",
      "38/38 [==============================] - 5s 140ms/step - loss: 0.0015\n",
      "Epoch 88/100\n",
      "38/38 [==============================] - 5s 141ms/step - loss: 0.0013\n",
      "Epoch 89/100\n",
      "38/38 [==============================] - 5s 143ms/step - loss: 0.0015\n",
      "Epoch 90/100\n",
      "38/38 [==============================] - 5s 142ms/step - loss: 0.0014\n",
      "Epoch 91/100\n",
      "38/38 [==============================] - 5s 142ms/step - loss: 0.0014\n",
      "Epoch 92/100\n",
      "38/38 [==============================] - 5s 141ms/step - loss: 0.0013\n",
      "Epoch 93/100\n",
      "38/38 [==============================] - 5s 142ms/step - loss: 0.0014\n",
      "Epoch 94/100\n",
      "38/38 [==============================] - 5s 142ms/step - loss: 0.0012\n",
      "Epoch 95/100\n",
      "38/38 [==============================] - 5s 142ms/step - loss: 0.0017\n",
      "Epoch 96/100\n",
      "38/38 [==============================] - 5s 142ms/step - loss: 0.0016\n",
      "Epoch 97/100\n",
      "38/38 [==============================] - 5s 142ms/step - loss: 0.0013\n",
      "Epoch 98/100\n",
      "38/38 [==============================] - 5s 142ms/step - loss: 0.0014\n",
      "Epoch 99/100\n"
     ]
    },
    {
     "name": "stdout",
     "output_type": "stream",
     "text": [
      "38/38 [==============================] - 5s 141ms/step - loss: 0.0015\n",
      "Epoch 100/100\n",
      "38/38 [==============================] - 5s 141ms/step - loss: 0.0013\n"
     ]
    },
    {
     "data": {
      "text/plain": [
       "<tensorflow.python.keras.callbacks.History at 0xc9d41e0cf8>"
      ]
     },
     "execution_count": 34,
     "metadata": {},
     "output_type": "execute_result"
    }
   ],
   "source": [
    "#fitting the RNN to the training set\n",
    "regressor.fit(X_train, y_train, epochs = 100, batch_size = 32)"
   ]
  },
  {
   "cell_type": "code",
   "execution_count": 36,
   "id": "brilliant-production",
   "metadata": {},
   "outputs": [
    {
     "name": "stdout",
     "output_type": "stream",
     "text": [
      "       Date    Open    High     Low   Close     Volume\n",
      "0  1/3/2017  778.81  789.63  775.80  786.14  1,657,300\n",
      "1  1/4/2017  788.36  791.34  783.16  786.90  1,073,000\n",
      "2  1/5/2017  786.08  794.48  785.02  794.02  1,335,200\n",
      "3  1/6/2017  795.26  807.90  792.20  806.15  1,640,200\n",
      "4  1/9/2017  806.40  809.97  802.83  806.65  1,272,400\n"
     ]
    }
   ],
   "source": [
    "#Load the real stock price of 2017\n",
    "path_file= file_path = 'C:/Users/user/Documents/Bussnis computing/RNN stock price prediction/Google_Stock_Price_Test.csv'\n",
    "dataset_test = pd.read_csv(file_path, header=0)\n",
    "real_stock_price = dataset_test.iloc[:, 1:2].values\n",
    "print(dataset_test.head())"
   ]
  },
  {
   "cell_type": "code",
   "execution_count": 40,
   "id": "knowing-clerk",
   "metadata": {},
   "outputs": [],
   "source": [
    "#Getting the predicted stock price of 2017\n",
    "dataset_total = pd.concat((dataset_train['Open'], dataset_test['Open']), axis = 0)\n",
    "inputs = dataset_total[len(dataset_total) - len(dataset_test) - 60:].values\n",
    "inputs = inputs.reshape(-1, 1)\n",
    "inputs = sc.transform(inputs)\n",
    "X_test = []\n",
    "for i in range(60, 80):\n",
    "    X_test.append(inputs[i-60:i, 0])\n",
    "X_test = np.array(X_test)\n",
    "X_test = np.reshape(X_test, (X_test.shape[0], X_test.shape[1], 1))\n",
    "predicted_stock_price = regressor.predict(X_test)\n",
    "predicted_stock_price = sc.inverse_transform(predicted_stock_price)"
   ]
  },
  {
   "cell_type": "code",
   "execution_count": 41,
   "id": "fifty-infrared",
   "metadata": {},
   "outputs": [
    {
     "data": {
      "image/png": "[encoded data removed]",
      "text/plain": [
       "<Figure size 432x288 with 1 Axes>"
      ]
     },
     "metadata": {
      "needs_background": "light"
     },
     "output_type": "display_data"
    }
   ],
   "source": [
    "#Visualising the results\n",
    "plt.plot(real_stock_price, color= 'red', label ='Real google stock price')\n",
    "plt.plot(predicted_stock_price, color ='blue', label = 'prdicted google stock price')\n",
    "plt.title('Google stock price prediction')\n",
    "plt.xlabel('Time')\n",
    "plt.ylabel('Google Stock Price')\n",
    "plt.legend()\n",
    "plt.show()"
   ]
  },
  {
   "cell_type": "code",
   "execution_count": null,
   "id": "vanilla-unemployment",
   "metadata": {},
   "outputs": [],
   "source": []
  }
 ],
 "metadata": {
  "kernelspec": {
   "display_name": "Python 3",
   "language": "python",
   "name": "python3"
  },
  "language_info": {
   "codemirror_mode": {
    "name": "ipython",
    "version": 3
   },
   "file_extension": ".py",
   "mimetype": "text/x-python",
   "name": "python",
   "nbconvert_exporter": "python",
   "pygments_lexer": "ipython3",
   "version": "3.6.8"
  }
 },
 "nbformat": 4,
 "nbformat_minor": 5
}
